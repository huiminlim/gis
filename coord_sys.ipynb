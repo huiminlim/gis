{
 "cells": [
  {
   "attachments": {},
   "cell_type": "markdown",
   "metadata": {},
   "source": [
    "# Coordinate Systems\n",
    "\n",
    "Adapted from Chapter 3 *Working with Geographic and Projected Coordinate Systems* of **Applied Geospatial Data Science with Python**.\n",
    "\n",
    "The key idea is that:\n",
    "\n",
    "- The Earth is round.\n",
    "\n",
    "- However, to represent the 3D Earth on a 2D surface, **map projections** and **coordinate reference system (CRS)** concepts are vital."
   ]
  },
  {
   "attachments": {},
   "cell_type": "markdown",
   "metadata": {},
   "source": [
    "## Geographic Coordinate Systems\n",
    "\n",
    "A 3D spheroid surface to define locations on the Earth's surface, represented by the **latitude** and **longitude**.\n",
    "\n",
    "The longitude is represented by X and the latitude is represented by Y, and are measured in degrees.\n",
    "\n",
    "The network of latitude and longitude lines are **graticule**.\n",
    "\n",
    "![Earth Graticule](https://giscommons.org/files/2009/08/3.21.gif)\n",
    "\n",
    "The lines that run from north to south are **meridians** and the central meridian is **prime meridian**.\n",
    "\n",
    "The most common one is the one running through Greenwich, England, known as **Greenwich meridian**.\n",
    "\n",
    "### World Geodetic System 1984\n",
    "\n",
    "The **WGS 1984** is the standard for the GPS.\n",
    "\n",
    "WGS 1984 uses Earth's center mass as coordinate system origin.\n",
    "\n",
    "The well-known ID (WKID) of the WGS 1984 is 4326."
   ]
  },
  {
   "attachments": {},
   "cell_type": "markdown",
   "metadata": {},
   "source": [
    "## Projected Coordinate Systems\n",
    "\n",
    "Each PCS has a trade-off when maintaining shape, area, angles, scales etc.\n",
    "\n",
    "### Equal-area Projections\n",
    "\n",
    "Equal-area projections maintain the relative size of an area in a map.\n",
    "\n",
    "For example, this is a Lambert cylindrical equal-area projection.\n",
    "\n",
    "![Lambert cylindrical equal-area projection](https://gisgeography.com/wp-content/uploads/2016/12/North-America-Lambert-Conformal-Conic-Projection-1265x694.png)\n",
    "\n",
    "### Behrmann Map Projection\n",
    "\n",
    "The Behrmann Projection is a cylindrical equal-area projection, where 50% of the Earth's surface is stretched horizontally, and the other 50% is stretched vertically.\n",
    "\n",
    "### Sinusoidal Map Projection\n",
    "\n",
    "The sinusoidal projection is a pseudocylindrical equal-area projection, which displays all parallels\n",
    "as well as the central meridian at true scale.\n",
    "\n",
    "![Sinusoidal](https://upload.wikimedia.org/wikipedia/commons/c/c7/Usgs_map_sinousidal_equal_area.PNG)\n"
   ]
  },
  {
   "cell_type": "code",
   "execution_count": 65,
   "metadata": {},
   "outputs": [],
   "source": [
    "import geopandas as gpd\n",
    "import matplotlib.pyplot as plt"
   ]
  },
  {
   "cell_type": "code",
   "execution_count": 66,
   "metadata": {},
   "outputs": [],
   "source": [
    "data_path = \"data/\""
   ]
  },
  {
   "cell_type": "code",
   "execution_count": 74,
   "metadata": {},
   "outputs": [
    {
     "data": {
      "text/plain": [
       "<Geographic 2D CRS: EPSG:4326>\n",
       "Name: WGS 84\n",
       "Axis Info [ellipsoidal]:\n",
       "- Lat[north]: Geodetic latitude (degree)\n",
       "- Lon[east]: Geodetic longitude (degree)\n",
       "Area of Use:\n",
       "- name: World.\n",
       "- bounds: (-180.0, -90.0, 180.0, 90.0)\n",
       "Datum: World Geodetic System 1984 ensemble\n",
       "- Ellipsoid: WGS 84\n",
       "- Prime Meridian: Greenwich"
      ]
     },
     "execution_count": 74,
     "metadata": {},
     "output_type": "execute_result"
    }
   ],
   "source": [
    "# World Shapefile\n",
    "world = gpd.read_file(gpd.datasets.get_path(\"naturalearth_lowres\"))\n",
    "world.crs"
   ]
  },
  {
   "cell_type": "code",
   "execution_count": 73,
   "metadata": {},
   "outputs": [
    {
     "data": {
      "text/plain": [
       "<Geographic 2D CRS: EPSG:4326>\n",
       "Name: WGS 84\n",
       "Axis Info [ellipsoidal]:\n",
       "- Lat[north]: Geodetic latitude (degree)\n",
       "- Lon[east]: Geodetic longitude (degree)\n",
       "Area of Use:\n",
       "- name: World.\n",
       "- bounds: (-180.0, -90.0, 180.0, 90.0)\n",
       "Datum: World Geodetic System 1984 ensemble\n",
       "- Ellipsoid: WGS 84\n",
       "- Prime Meridian: Greenwich"
      ]
     },
     "execution_count": 73,
     "metadata": {},
     "output_type": "execute_result"
    }
   ],
   "source": [
    "# Capitals Shapefile\n",
    "capitals = gpd.read_file(f'{data_path}/ne_110m_populated_places/ne_110m_populated_places.shp')\n",
    "capitals = capitals[capitals[\"FEATURECLA\"]==\"Admin-0capital\"]\n",
    "capitals.crs"
   ]
  },
  {
   "cell_type": "code",
   "execution_count": 70,
   "metadata": {},
   "outputs": [
    {
     "data": {
      "text/plain": [
       "<Geographic 2D CRS: EPSG:4326>\n",
       "Name: WGS 84\n",
       "Axis Info [ellipsoidal]:\n",
       "- Lat[north]: Geodetic latitude (degree)\n",
       "- Lon[east]: Geodetic longitude (degree)\n",
       "Area of Use:\n",
       "- name: World.\n",
       "- bounds: (-180.0, -90.0, 180.0, 90.0)\n",
       "Datum: World Geodetic System 1984 ensemble\n",
       "- Ellipsoid: WGS 84\n",
       "- Prime Meridian: Greenwich"
      ]
     },
     "execution_count": 70,
     "metadata": {},
     "output_type": "execute_result"
    }
   ],
   "source": [
    "# 110m resolution graticule shapefile\n",
    "grat = gpd.read_file(data_path + 'Graticule/ne_110m_graticules_10.shp')\n",
    "grat.crs"
   ]
  },
  {
   "cell_type": "code",
   "execution_count": 72,
   "metadata": {},
   "outputs": [
    {
     "data": {
      "text/plain": [
       "True"
      ]
     },
     "execution_count": 72,
     "metadata": {},
     "output_type": "execute_result"
    }
   ],
   "source": [
    "# To check that all the CRS used by the datasets are the same\n",
    "# WGS 1984\n",
    "capitals.crs == world.crs == grat.crs"
   ]
  }
 ],
 "metadata": {
  "kernelspec": {
   "display_name": "gis",
   "language": "python",
   "name": "python3"
  },
  "language_info": {
   "codemirror_mode": {
    "name": "ipython",
    "version": 3
   },
   "file_extension": ".py",
   "mimetype": "text/x-python",
   "name": "python",
   "nbconvert_exporter": "python",
   "pygments_lexer": "ipython3",
   "version": "3.11.3"
  },
  "orig_nbformat": 4
 },
 "nbformat": 4,
 "nbformat_minor": 2
}
