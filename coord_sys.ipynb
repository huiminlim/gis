{
 "cells": [
  {
   "attachments": {},
   "cell_type": "markdown",
   "metadata": {},
   "source": [
    "# Coordinate Systems\n",
    "\n",
    "Adapted from Chapter 3 *Working with Geographic and Projected Coordinate Systems* of **Applied Geospatial Data Science with Python**.\n",
    "\n",
    "The key idea is that:\n",
    "\n",
    "- The Earth is round.\n",
    "\n",
    "- However, to represent the 3D Earth on a 2D surface, **map projections** and **coordinate reference system (CRS)** concepts are vital."
   ]
  },
  {
   "attachments": {},
   "cell_type": "markdown",
   "metadata": {},
   "source": [
    "## Geographic Coordinate Systems\n",
    "\n",
    "A 3D spheroid surface to define locations on the Earth's surface, represented by the **latitude** and **longitude**.\n",
    "\n",
    "The longitude is represented by X and the latitude is represented by Y, and are measured in degrees.\n",
    "\n",
    "The network of latitude and longitude lines are **graticule**.\n",
    "\n",
    "![Earth Graticule](https://giscommons.org/files/2009/08/3.21.gif)\n",
    "\n",
    "The lines that run from north to south are **meridians** and the central meridian is **prime meridian**.\n",
    "\n",
    "The most common one is the one running through Greenwich, England, known as **Greenwich meridian**.\n",
    "\n",
    "### World Geodetic System 1984\n",
    "\n",
    "The **WGS 1984** is the standard for the GPS.\n",
    "\n",
    "WGS 1984 uses Earth's center mass as coordinate system origin.\n",
    "\n",
    "The well-known ID (WKID) of the WGS 1984 is 4326."
   ]
  },
  {
   "attachments": {},
   "cell_type": "markdown",
   "metadata": {},
   "source": [
    "## Projected Coordinate Systems"
   ]
  }
 ],
 "metadata": {
  "language_info": {
   "name": "python"
  },
  "orig_nbformat": 4
 },
 "nbformat": 4,
 "nbformat_minor": 2
}
